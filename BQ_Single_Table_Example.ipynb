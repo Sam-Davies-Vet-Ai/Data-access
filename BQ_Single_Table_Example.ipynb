{
  "nbformat": 4,
  "nbformat_minor": 0,
  "metadata": {
    "colab": {
      "provenance": [],
      "collapsed_sections": [],
      "include_colab_link": true
    },
    "kernelspec": {
      "name": "python3",
      "display_name": "Python 3"
    },
    "language_info": {
      "name": "python"
    }
  },
  "cells": [
    {
      "cell_type": "markdown",
      "metadata": {
        "id": "view-in-github",
        "colab_type": "text"
      },
      "source": [
        "<a href=\"https://colab.research.google.com/github/Sam-Davies-Vet-Ai/Data-access/blob/main/BQ_Single_Table_Example.ipynb\" target=\"_parent\"><img src=\"https://colab.research.google.com/assets/colab-badge.svg\" alt=\"Open In Colab\"/></a>"
      ]
    },
    {
      "cell_type": "code",
      "execution_count": 14,
      "metadata": {
        "id": "yesSjXhYm7_U"
      },
      "outputs": [],
      "source": [
        "from google.oauth2 import service_account\n",
        "from googleapiclient import discovery\n",
        "from google.cloud import bigquery\n",
        "import json"
      ]
    },
    {
      "cell_type": "code",
      "source": [
        "# Used for formatting text bold and underlined\n",
        "start = \"\\033[1m\"\n",
        "end = \"\\033[0;0m\"\n",
        "under = \"\\033[4m\""
      ],
      "metadata": {
        "id": "_9purG6ygpKa"
      },
      "execution_count": 15,
      "outputs": []
    },
    {
      "cell_type": "code",
      "source": [
        "#opening the json file with credentials the open('xxxxx.json') needs to be the link to where the file is stored\n",
        "with open('xxxxx.json') as source:\n",
        "   gcp_sa_credentials = json.load(source) "
      ],
      "metadata": {
        "id": "N00WpoqWpNf_"
      },
      "execution_count": 16,
      "outputs": []
    },
    {
      "cell_type": "code",
      "source": [
        "#Extracts the project id from the credentials\n",
        "project_id=gcp_sa_credentials[\"project_id\"]"
      ],
      "metadata": {
        "id": "jDaN-PaNqYnX"
      },
      "execution_count": 17,
      "outputs": []
    },
    {
      "cell_type": "code",
      "source": [
        "#Creates the bigquery client connection to the project\n",
        "credentials = service_account.Credentials.from_service_account_info(gcp_sa_credentials)\n",
        "client = bigquery.Client(project=project_id,credentials=credentials)"
      ],
      "metadata": {
        "id": "o94JXy7snAIf"
      },
      "execution_count": 18,
      "outputs": []
    },
    {
      "cell_type": "code",
      "source": [
        "# function return a single table and print the whole dataframe\n",
        "def get_data_extract(datasetname,project_id):\n",
        "\n",
        "  #Connects to the dataset\n",
        "  dataset_ref = client.dataset(datasetname, project=project_id)\n",
        "  dataset = client.get_dataset(dataset_ref)\n",
        "\n",
        "  # Names the table required to be queried, in this example we are looking at \"data_definitions\", this can be replaced by any table name\n",
        "  table_name = \"data_definitions\"\n",
        "  \n",
        "  #first 5 rows title\n",
        "  print(\"\\n\",start + \"Extract full table data\" + end)\n",
        "\n",
        "  #Connects to the table\n",
        "  table_ref = dataset_ref.table(table_name)\n",
        "  table = client.get_table(table_ref)\n",
        "    \n",
        "  # creates a dataframe of the first 5 rows of the table\n",
        "  df = client.list_rows(table).to_dataframe()\n",
        "\n",
        "  # prints the dataframe\n",
        "  print(df,\"\\n\")"
      ],
      "metadata": {
        "id": "rbC9eHLGh2n-"
      },
      "execution_count": 30,
      "outputs": []
    },
    {
      "cell_type": "code",
      "source": [
        "#Listing all of the datasets\n",
        "datasets = list(client.list_datasets())\n",
        "\n",
        "#Loops through the dataset and then calls the function get_data_extract to view a single table if in each dataset\n",
        "for dataset in datasets:\n",
        "\n",
        "  #Dataset Title\n",
        "  print(\"\\n\", start + \"Dataset\" + end)\n",
        "\n",
        "  #Print dataset name\n",
        "  print(dataset.dataset_id)\n",
        "\n",
        "  #Call function will show text if the table is not within the dataset\n",
        "  try:\n",
        "    get_data_extract(dataset.dataset_id,project_id)\n",
        "  except:\n",
        "    print(\"Table is not within the dataset\" + dataset.dataset_id)"
      ],
      "metadata": {
        "id": "If_NHcn4huyo"
      },
      "execution_count": null,
      "outputs": []
    }
  ]
}