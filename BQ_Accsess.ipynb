{
  "nbformat": 4,
  "nbformat_minor": 0,
  "metadata": {
    "colab": {
      "provenance": [],
      "collapsed_sections": [],
      "include_colab_link": true
    },
    "kernelspec": {
      "name": "python3",
      "display_name": "Python 3"
    },
    "language_info": {
      "name": "python"
    }
  },
  "cells": [
    {
      "cell_type": "markdown",
      "metadata": {
        "id": "view-in-github",
        "colab_type": "text"
      },
      "source": [
        "<a href=\"https://colab.research.google.com/github/Sam-Davies-Vet-Ai/Data-access/blob/main/BQ_Accsess.ipynb\" target=\"_parent\"><img src=\"https://colab.research.google.com/assets/colab-badge.svg\" alt=\"Open In Colab\"/></a>"
      ]
    },
    {
      "cell_type": "code",
      "execution_count": null,
      "metadata": {
        "id": "yesSjXhYm7_U"
      },
      "outputs": [],
      "source": [
        "from google.oauth2 import service_account\n",
        "from googleapiclient import discovery\n",
        "from google.cloud import bigquery\n",
        "import json"
      ]
    },
    {
      "cell_type": "code",
      "source": [
        "# Used for formatting text bold and underlined\n",
        "start = \"\\033[1m\"\n",
        "end = \"\\033[0;0m\"\n",
        "under = \"\\033[4m\""
      ],
      "metadata": {
        "id": "_9purG6ygpKa"
      },
      "execution_count": null,
      "outputs": []
    },
    {
      "cell_type": "code",
      "source": [
        "#opening the json file with credentials the open('xxxxx.json') needs to be the link to where the file is stored\n",
        "with open('xxxxx.json') as source:\n",
        "   gcp_sa_credentials = json.load(source) "
      ],
      "metadata": {
        "id": "N00WpoqWpNf_"
      },
      "execution_count": null,
      "outputs": []
    },
    {
      "cell_type": "code",
      "source": [
        "#Extracts the project id from the credentials\n",
        "project_id=gcp_sa_credentials[\"project_id\"]"
      ],
      "metadata": {
        "id": "jDaN-PaNqYnX"
      },
      "execution_count": null,
      "outputs": []
    },
    {
      "cell_type": "code",
      "source": [
        "#Creates the bigquery client connection to the project\n",
        "credentials = service_account.Credentials.from_service_account_info(gcp_sa_credentials)\n",
        "client = bigquery.Client(project=project_id,credentials=credentials)"
      ],
      "metadata": {
        "id": "o94JXy7snAIf"
      },
      "execution_count": null,
      "outputs": []
    },
    {
      "cell_type": "code",
      "source": [
        "# function to loop through the tables in the dataset, name the tables and print a dataframe for the first 5 rows\n",
        "def get_data_extract(datasetname,project_id):\n",
        "\n",
        "  #Connects to the dataset\n",
        "  dataset_ref = client.dataset(datasetname, project=project_id)\n",
        "  dataset = client.get_dataset(dataset_ref)\n",
        "\n",
        "  # Lists the tables in the dataset\n",
        "  tables = list(client.list_tables(dataset))\n",
        "\n",
        "  #Tables title\n",
        "  print(\"\\n\", start + \"Tables\" + end)\n",
        "\n",
        "  #Prints the name of each of the tables\n",
        "  for table in tables:\n",
        "    print(table.table_id)\n",
        "\n",
        "  #first 5 rows title\n",
        "  print(\"\\n\",start + \"First 5 rows from each table\" + end)\n",
        "\n",
        "  #Loops through tables and prints the first 5 rows\n",
        "  for table in tables:\n",
        "    # Prints the name of the table\n",
        "    print(under + table.table_id + end)\n",
        "\n",
        "    #Connects to the table\n",
        "    table_ref = dataset_ref.table(table.table_id)\n",
        "    select_table = client.get_table(table_ref)\n",
        "    \n",
        "    # creates a dataframe of the first 5 rows of the table\n",
        "    df = client.list_rows(select_table, max_results=5).to_dataframe()\n",
        "\n",
        "    # prints the dataframe\n",
        "    print(df,\"\\n\")"
      ],
      "metadata": {
        "id": "rbC9eHLGh2n-"
      },
      "execution_count": null,
      "outputs": []
    },
    {
      "cell_type": "code",
      "source": [
        "#Listing all of the datasets\n",
        "datasets = list(client.list_datasets())\n",
        "\n",
        "#Loops through the dataset and then calls the function get_data_extract to state table names and dataframe extract\n",
        "for dataset in datasets:\n",
        "\n",
        "  #Dataset Title\n",
        "  print(\"\\n\", start + \"Dataset\" + end)\n",
        "\n",
        "  #Print dataset name\n",
        "  print(dataset.dataset_id)\n",
        "\n",
        "  #Call function\n",
        "  get_data_extract(dataset.dataset_id,project_id)"
      ],
      "metadata": {
        "id": "If_NHcn4huyo"
      },
      "execution_count": null,
      "outputs": []
    }
  ]
}